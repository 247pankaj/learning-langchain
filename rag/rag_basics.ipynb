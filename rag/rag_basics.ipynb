{
 "cells": [
  {
   "cell_type": "code",
   "execution_count": 21,
   "id": "9ca48991",
   "metadata": {},
   "outputs": [],
   "source": [
    "## Data Ingestion\n",
    "from langchain_community.document_loaders import TextLoader\n",
    "loader = TextLoader(\"analysis_input.txt\")\n",
    "text_documents = loader.load()"
   ]
  },
  {
   "cell_type": "code",
   "execution_count": 22,
   "id": "8f1b318c",
   "metadata": {},
   "outputs": [],
   "source": [
    "import os\n",
    "from dotenv import load_dotenv\n",
    "load_dotenv()\n",
    "os.environ['OPENAI_API_KEY'] = os.getenv(\"OPENAI_API_KEY\")"
   ]
  },
  {
   "cell_type": "code",
   "execution_count": 23,
   "id": "6a73bd50",
   "metadata": {},
   "outputs": [],
   "source": [
    "# web based loader\n",
    "from langchain_community.document_loaders import WebBaseLoader\n",
    "import bs4\n",
    "\n",
    "loader = WebBaseLoader(\n",
    "    web_paths=(\"https://lilianweng.github.io/posts/2023-06-23-agent/\",),\n",
    "    bs_kwargs=dict(\n",
    "        parse_only=bs4.SoupStrainer(\n",
    "            class_=(\"post-title\", \"post-content\", \"post-header\")\n",
    "        )\n",
    "    )\n",
    ")\n",
    "text_documents = loader.load()"
   ]
  },
  {
   "cell_type": "code",
   "execution_count": 24,
   "id": "d454fbf5",
   "metadata": {},
   "outputs": [
    {
     "name": "stdout",
     "output_type": "stream",
     "text": [
      "Alec Radford, Jong Wook Kim, Chris Hallacy, Aditya Ramesh, Gabriel Goh, Sandhini Agarwal, Girish Sastry,\n",
      "Amanda Askell, Pamela Mishkin, Jack Clark, et al. Learning transferable visual models from natural language\n",
      "supervision. InInternational conference on machine learning, pages 8748–8763. PMLR, 2021.\n",
      "Adam Roberts, Colin Raffel, and Noam Shazeer. How much knowledge can you pack into the parameters of a\n",
      "language model?arXiv preprint arXiv:2002.08910, 2020.\n",
      "Dustin Schwenk, Apoorv Khandelwal, Christopher Clark, Kenneth Marino, and Roozbeh Mottaghi. A-okvqa:\n",
      "A benchmark for visual question answering using world knowledge. InEuropean conference on computer\n",
      "vision, pages 146–162. Springer, 2022.\n",
      "Zhiqing Sun, Sheng Shen, Shengcao Cao, Haotian Liu, Chunyuan Li, Yikang Shen, Chuang Gan, Liang-Yan\n",
      "Gui, Yu-Xiong Wang, Yiming Yang, et al. Aligning large multimodal models with factually augmented rlhf.\n",
      "arXiv preprint arXiv:2309.14525, 2023.\n"
     ]
    }
   ],
   "source": [
    "## Pdf reader\n",
    "from langchain_community.document_loaders import PyPDFLoader\n",
    "loader = PyPDFLoader('Multimodal_LLMs_Hallucination_Mitigation.pdf')\n",
    "docs = loader.load()\n",
    "\n",
    "from langchain.text_splitter import RecursiveCharacterTextSplitter\n",
    "text_splitter = RecursiveCharacterTextSplitter(chunk_size=1000, chunk_overlap=200)\n",
    "documents = text_splitter.split_documents(docs)\n",
    "\n",
    "## Vector Embedding And Vector Store\n",
    "from langchain_openai import OpenAIEmbeddings\n",
    "from langchain_community.vectorstores import Chroma\n",
    "# embeddings = OpenAIEmbeddings(model=\"text-embedding-3-small\")\n",
    "\n",
    "## For Ollama compatibility\n",
    "from langchain_ollama import OllamaEmbeddings\n",
    "# ollama_embeddings = OllamaEmbeddings(model=\"llama2\")\n",
    "embeddings = OllamaEmbeddings(model=\"llama3\")\n",
    "# db_ollama = Chroma.from_documents(documents, ollama_embeddings)\n",
    "\n",
    "db = Chroma.from_documents(documents, embeddings)\n",
    "\n",
    "query = \"Who are the authors of Multimodal LLMs Hallucination Mitigation?\"\n",
    "retrieved_results = db.similarity_search(query)\n",
    "print(retrieved_results[0].page_content)\n",
    "\n",
    "## FAISS Vector Database\n",
    "from langchain_community.vectorstores import FAISS\n",
    "db = FAISS.from_documents(documents[:15], embeddings)"
   ]
  },
  {
   "cell_type": "code",
   "execution_count": 25,
   "id": "04d08862",
   "metadata": {},
   "outputs": [
    {
     "name": "stderr",
     "output_type": "stream",
     "text": [
      "2025-09-30 20:17:29.768 Thread 'MainThread': missing ScriptRunContext! This warning can be ignored when running in bare mode.\n",
      "2025-09-30 20:17:29.769 Thread 'MainThread': missing ScriptRunContext! This warning can be ignored when running in bare mode.\n",
      "2025-09-30 20:17:29.770 Thread 'MainThread': missing ScriptRunContext! This warning can be ignored when running in bare mode.\n",
      "2025-09-30 20:17:29.771 Thread 'MainThread': missing ScriptRunContext! This warning can be ignored when running in bare mode.\n",
      "2025-09-30 20:17:29.772 Thread 'MainThread': missing ScriptRunContext! This warning can be ignored when running in bare mode.\n",
      "2025-09-30 20:17:29.772 Thread 'MainThread': missing ScriptRunContext! This warning can be ignored when running in bare mode.\n",
      "2025-09-30 20:17:29.773 Thread 'MainThread': missing ScriptRunContext! This warning can be ignored when running in bare mode.\n",
      "2025-09-30 20:17:29.773 Thread 'MainThread': missing ScriptRunContext! This warning can be ignored when running in bare mode.\n",
      "2025-09-30 20:17:29.774 Thread 'MainThread': missing ScriptRunContext! This warning can be ignored when running in bare mode.\n",
      "2025-09-30 20:17:29.774 Thread 'MainThread': missing ScriptRunContext! This warning can be ignored when running in bare mode.\n"
     ]
    }
   ],
   "source": [
    "## For LangServe deployment\n",
    "from fastapi import FastAPI\n",
    "from langserve import add_routes\n",
    "app = FastAPI()\n",
    "add_routes(app, db.as_retriever(), path=\"/vectorstore\")\n",
    "\n",
    "## Streamlit app integration\n",
    "import streamlit as st\n",
    "st.title(\"Document Q&A\")\n",
    "query = st.text_input(\"Enter your question:\")\n",
    "if query:\n",
    "    results = db.similarity_search(query)\n",
    "    st.write(results[0].page_content)\n"
   ]
  }
 ],
 "metadata": {
  "kernelspec": {
   "display_name": "learning-langchain",
   "language": "python",
   "name": "python3"
  },
  "language_info": {
   "codemirror_mode": {
    "name": "ipython",
    "version": 3
   },
   "file_extension": ".py",
   "mimetype": "text/x-python",
   "name": "python",
   "nbconvert_exporter": "python",
   "pygments_lexer": "ipython3",
   "version": "3.12.2"
  }
 },
 "nbformat": 4,
 "nbformat_minor": 5
}
